{
 "cells": [
  {
   "cell_type": "code",
   "execution_count": 1,
   "metadata": {},
   "outputs": [
    {
     "name": "stdout",
     "output_type": "stream",
     "text": [
      "PIC\n",
      "https://avatars.githubusercontent.com/u/80673827?v=4\n",
      "Repository(full_name=\"trollord/Cash_Book_MPR\")\n",
      "Repository(full_name=\"trollord/college_MPR\")\n",
      "Repository(full_name=\"trollord/JAVA_MPR\")\n",
      "Repository(full_name=\"trollord/X86_64\")\n"
     ]
    }
   ],
   "source": [
    "import base64\n",
    "from github import Github\n",
    "from pprint import pprint\n",
    "\n",
    "# Github username\n",
    "username = \"trollord\"\n",
    "# pygithub object\n",
    "g = Github()\n",
    "# get that user by username\n",
    "user = g.get_user(username)\n",
    "# print(user.raw_data)\n",
    "print(\"PIC\")\n",
    "pic = user.avatar_url\n",
    "print(pic)\n",
    "for repo in user.get_repos():\n",
    "    print(repo)"
   ]
  },
  {
   "cell_type": "code",
   "execution_count": null,
   "metadata": {},
   "outputs": [],
   "source": []
  }
 ],
 "metadata": {
  "interpreter": {
   "hash": "78e75881d7e9f6492f9be02fb9d9ea5f84ad816bf850eb2f208d577f0779af43"
  },
  "kernelspec": {
   "display_name": "Python 3.9.10 64-bit (windows store)",
   "language": "python",
   "name": "python3"
  },
  "language_info": {
   "codemirror_mode": {
    "name": "ipython",
    "version": 3
   },
   "file_extension": ".py",
   "mimetype": "text/x-python",
   "name": "python",
   "nbconvert_exporter": "python",
   "pygments_lexer": "ipython3",
   "version": "3.9.10"
  },
  "orig_nbformat": 4
 },
 "nbformat": 4,
 "nbformat_minor": 2
}
